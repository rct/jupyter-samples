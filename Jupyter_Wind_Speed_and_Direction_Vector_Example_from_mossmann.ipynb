{
 "cells": [
  {
   "cell_type": "markdown",
   "metadata": {},
   "source": [
    "# Wind Speed and Direction from Michael Ossmann SDR Intro\n",
    "\n",
    "Calculate average wind speed and direction vector using complex numbers. This needs to be viewed in a Jupyter notebook to see the resulting matplotlib graph in polar coordinates. Note with poloar coordinates, 0 degrees is on the right, not on the top (where you'd expect to be North).\n",
    "\n",
    "From Michael Ossman's [Intro to SDR with HackRF](http://greatscottgadgets.com/sdr/) on-line tutorial.\n",
    "\n",
    "See [lesson 6](http://greatscottgadgets.com/sdr/6/) and [lesson 7](http://greatscottgadgets.com/sdr/7/)\n",
    "\n",
    "Input is a list of wind direction and speed readings using degrees, speed.\n",
    "\n",
    "http://greatscottgadgets.com/sdr/  \n",
    "\n"
   ]
  },
  {
   "cell_type": "code",
   "execution_count": 6,
   "metadata": {},
   "outputs": [],
   "source": [
    "%matplotlib inline\n",
    "import cmath\n",
    "from matplotlib.pylab import *\n",
    "tau = 2 * pi\n",
    "def average(readings):\n",
    "    base = e ** (1j * tau / 360)\n",
    "    total = 0\n",
    "    for r in readings:\n",
    "        v = r[1] * base ** r[0]\n",
    "        total += v\n",
    "        arrow(0, 0, v.real, v.imag, head_width=0.05, head_length=0.05, fc='r', ec='r')\n",
    "    result = total / len(readings)\n",
    "    arrow(0, 0, result.real, result.imag, head_width=0.05, head_length=0.05, fc='b', ec='b')\n",
    "    xlim((-1.5, 1.5))\n",
    "    ylim((-1.5, 1.5))\n",
    "    ylabel('Imaginary')\n",
    "    xlabel('Real')\n",
    "    return (cmath.log(result, base).real, abs(result))\n",
    "\n"
   ]
  },
  {
   "cell_type": "markdown",
   "metadata": {},
   "source": [
    "## Example 1\n",
    "\n",
    "Several readings, all in the same direction, between 9 and 16 degress.\n",
    "\n",
    "Note: This test case would be easy for many algorithms, same direction, doesn't cross zero, ..."
   ]
  },
  {
   "cell_type": "code",
   "execution_count": 7,
   "metadata": {},
   "outputs": [
    {
     "data": {
      "text/plain": [
       "(13.000304779886221, 0.9990864214521125)"
      ]
     },
     "execution_count": 7,
     "metadata": {},
     "output_type": "execute_result"
    },
    {
     "data": {
      "image/png": "[encoded data removed]",
      "text/plain": [
       "<matplotlib.figure.Figure at 0x8484588>"
      ]
     },
     "metadata": {},
     "output_type": "display_data"
    }
   ],
   "source": [
    "average([(12,1),(15,1),(13,1),(9,1),(16,1)])"
   ]
  },
  {
   "cell_type": "markdown",
   "metadata": {},
   "source": [
    "## Example 2\n",
    "\n",
    "Slightly harder, directions cross around 0."
   ]
  },
  {
   "cell_type": "code",
   "execution_count": 8,
   "metadata": {},
   "outputs": [
    {
     "data": {
      "text/plain": [
       "(-0.9996952201137814, 0.9990864214521121)"
      ]
     },
     "execution_count": 8,
     "metadata": {},
     "output_type": "execute_result"
    },
    {
     "data": {
      "image/png": "[encoded data removed]",
      "text/plain": [
       "<matplotlib.figure.Figure at 0x84ae160>"
      ]
     },
     "metadata": {},
     "output_type": "display_data"
    }
   ],
   "source": [
    "average([(358,1), (1,1), (359,1), (355,1), (2,1)])"
   ]
  },
  {
   "cell_type": "markdown",
   "metadata": {},
   "source": [
    "## Example 3"
   ]
  },
  {
   "cell_type": "code",
   "execution_count": 10,
   "metadata": {},
   "outputs": [
    {
     "data": {
      "text/plain": [
       "(89.99999999999628, 6.123233995736766e-17)"
      ]
     },
     "execution_count": 10,
     "metadata": {},
     "output_type": "execute_result"
    },
    {
     "data": {
      "image/png": "[encoded data removed]",
      "text/plain": [
       "<matplotlib.figure.Figure at 0x805f8d0>"
      ]
     },
     "metadata": {},
     "output_type": "display_data"
    }
   ],
   "source": [
    "average([(180,1),(0,1)])"
   ]
  },
  {
   "cell_type": "code",
   "execution_count": null,
   "metadata": {},
   "outputs": [],
   "source": []
  }
 ],
 "metadata": {
  "kernelspec": {
   "display_name": "Python 3",
   "language": "python",
   "name": "python3"
  },
  "language_info": {
   "codemirror_mode": {
    "name": "ipython",
    "version": 3
   },
   "file_extension": ".py",
   "mimetype": "text/x-python",
   "name": "python",
   "nbconvert_exporter": "python",
   "pygments_lexer": "ipython3",
   "version": "3.6.0"
  }
 },
 "nbformat": 4,
 "nbformat_minor": 1
}
